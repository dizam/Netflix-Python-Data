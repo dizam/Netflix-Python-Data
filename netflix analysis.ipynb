{
 "cells": [
  {
   "cell_type": "code",
   "execution_count": 85,
   "metadata": {},
   "outputs": [],
   "source": [
    "import pandas as pd\n",
    "df = pd.read_csv('ViewingActivity.csv')"
   ]
  },
  {
   "cell_type": "code",
   "execution_count": 86,
   "metadata": {},
   "outputs": [
    {
     "data": {
      "text/plain": [
       "(167, 10)"
      ]
     },
     "execution_count": 86,
     "metadata": {},
     "output_type": "execute_result"
    }
   ],
   "source": [
    "df.shape #returns the number of rows and columns"
   ]
  },
  {
   "cell_type": "code",
   "execution_count": 87,
   "metadata": {},
   "outputs": [
    {
     "data": {
      "text/html": [
       "<div>\n",
       "<style scoped>\n",
       "    .dataframe tbody tr th:only-of-type {\n",
       "        vertical-align: middle;\n",
       "    }\n",
       "\n",
       "    .dataframe tbody tr th {\n",
       "        vertical-align: top;\n",
       "    }\n",
       "\n",
       "    .dataframe thead th {\n",
       "        text-align: right;\n",
       "    }\n",
       "</style>\n",
       "<table border=\"1\" class=\"dataframe\">\n",
       "  <thead>\n",
       "    <tr style=\"text-align: right;\">\n",
       "      <th></th>\n",
       "      <th>Profile Name</th>\n",
       "      <th>Start Time</th>\n",
       "      <th>Duration</th>\n",
       "      <th>Attributes</th>\n",
       "      <th>Title</th>\n",
       "      <th>Supplemental Video Type</th>\n",
       "      <th>Device Type</th>\n",
       "      <th>Bookmark</th>\n",
       "      <th>Latest Bookmark</th>\n",
       "      <th>Country</th>\n",
       "    </tr>\n",
       "  </thead>\n",
       "  <tbody>\n",
       "    <tr>\n",
       "      <th>0</th>\n",
       "      <td>Mom &amp; Dad</td>\n",
       "      <td>2022-09-27 21:16:43</td>\n",
       "      <td>00:00:13</td>\n",
       "      <td>Autoplayed: user action: None;</td>\n",
       "      <td>Die Strafe Gottes (Clip): Die Strafe Gottes</td>\n",
       "      <td>HOOK</td>\n",
       "      <td>Samsung CE 2020 Nike-L UHD TV Smart TV</td>\n",
       "      <td>00:00:13</td>\n",
       "      <td>00:00:13</td>\n",
       "      <td>DE (Germany)</td>\n",
       "    </tr>\n",
       "    <tr>\n",
       "      <th>1</th>\n",
       "      <td>Mom &amp; Dad</td>\n",
       "      <td>2022-09-27 19:00:02</td>\n",
       "      <td>02:09:10</td>\n",
       "      <td>Autoplayed: user action: User_Interaction;</td>\n",
       "      <td>A Beautiful Mind – Genie und Wahnsinn</td>\n",
       "      <td>NaN</td>\n",
       "      <td>Samsung CE 2020 Nike-L UHD TV Smart TV</td>\n",
       "      <td>02:09:11</td>\n",
       "      <td>02:09:11</td>\n",
       "      <td>DE (Germany)</td>\n",
       "    </tr>\n",
       "    <tr>\n",
       "      <th>2</th>\n",
       "      <td>Mom &amp; Dad</td>\n",
       "      <td>2022-09-27 18:58:40</td>\n",
       "      <td>00:00:06</td>\n",
       "      <td>Autoplayed: user action: None;</td>\n",
       "      <td>A Jazzman's Blues (Clip): A Jazzman's Blues</td>\n",
       "      <td>HOOK</td>\n",
       "      <td>Samsung CE 2020 Nike-L UHD TV Smart TV</td>\n",
       "      <td>00:00:06</td>\n",
       "      <td>00:00:06</td>\n",
       "      <td>DE (Germany)</td>\n",
       "    </tr>\n",
       "    <tr>\n",
       "      <th>3</th>\n",
       "      <td>Mom &amp; Dad</td>\n",
       "      <td>2022-09-26 18:35:22</td>\n",
       "      <td>01:41:17</td>\n",
       "      <td>NaN</td>\n",
       "      <td>Lou</td>\n",
       "      <td>NaN</td>\n",
       "      <td>Samsung CE 2020 Nike-L UHD TV Smart TV</td>\n",
       "      <td>01:41:19</td>\n",
       "      <td>01:41:19</td>\n",
       "      <td>DE (Germany)</td>\n",
       "    </tr>\n",
       "    <tr>\n",
       "      <th>4</th>\n",
       "      <td>Mom &amp; Dad</td>\n",
       "      <td>2022-09-26 18:35:07</td>\n",
       "      <td>00:00:13</td>\n",
       "      <td>Autoplayed: user action: None;</td>\n",
       "      <td>Lou (Clip 5): Lou</td>\n",
       "      <td>HOOK</td>\n",
       "      <td>Samsung CE 2020 Nike-L UHD TV Smart TV</td>\n",
       "      <td>00:00:13</td>\n",
       "      <td>00:00:13</td>\n",
       "      <td>DE (Germany)</td>\n",
       "    </tr>\n",
       "  </tbody>\n",
       "</table>\n",
       "</div>"
      ],
      "text/plain": [
       "  Profile Name           Start Time  Duration  \\\n",
       "0    Mom & Dad  2022-09-27 21:16:43  00:00:13   \n",
       "1    Mom & Dad  2022-09-27 19:00:02  02:09:10   \n",
       "2    Mom & Dad  2022-09-27 18:58:40  00:00:06   \n",
       "3    Mom & Dad  2022-09-26 18:35:22  01:41:17   \n",
       "4    Mom & Dad  2022-09-26 18:35:07  00:00:13   \n",
       "\n",
       "                                    Attributes  \\\n",
       "0              Autoplayed: user action: None;    \n",
       "1  Autoplayed: user action: User_Interaction;    \n",
       "2              Autoplayed: user action: None;    \n",
       "3                                          NaN   \n",
       "4              Autoplayed: user action: None;    \n",
       "\n",
       "                                         Title Supplemental Video Type  \\\n",
       "0  Die Strafe Gottes (Clip): Die Strafe Gottes                    HOOK   \n",
       "1        A Beautiful Mind – Genie und Wahnsinn                     NaN   \n",
       "2  A Jazzman's Blues (Clip): A Jazzman's Blues                    HOOK   \n",
       "3                                          Lou                     NaN   \n",
       "4                            Lou (Clip 5): Lou                    HOOK   \n",
       "\n",
       "                              Device Type  Bookmark Latest Bookmark  \\\n",
       "0  Samsung CE 2020 Nike-L UHD TV Smart TV  00:00:13        00:00:13   \n",
       "1  Samsung CE 2020 Nike-L UHD TV Smart TV  02:09:11        02:09:11   \n",
       "2  Samsung CE 2020 Nike-L UHD TV Smart TV  00:00:06        00:00:06   \n",
       "3  Samsung CE 2020 Nike-L UHD TV Smart TV  01:41:19        01:41:19   \n",
       "4  Samsung CE 2020 Nike-L UHD TV Smart TV  00:00:13        00:00:13   \n",
       "\n",
       "        Country  \n",
       "0  DE (Germany)  \n",
       "1  DE (Germany)  \n",
       "2  DE (Germany)  \n",
       "3  DE (Germany)  \n",
       "4  DE (Germany)  "
      ]
     },
     "execution_count": 87,
     "metadata": {},
     "output_type": "execute_result"
    }
   ],
   "source": [
    "df.head() #returns the first 5 rows"
   ]
  },
  {
   "cell_type": "code",
   "execution_count": 88,
   "metadata": {},
   "outputs": [
    {
     "data": {
      "text/html": [
       "<div>\n",
       "<style scoped>\n",
       "    .dataframe tbody tr th:only-of-type {\n",
       "        vertical-align: middle;\n",
       "    }\n",
       "\n",
       "    .dataframe tbody tr th {\n",
       "        vertical-align: top;\n",
       "    }\n",
       "\n",
       "    .dataframe thead th {\n",
       "        text-align: right;\n",
       "    }\n",
       "</style>\n",
       "<table border=\"1\" class=\"dataframe\">\n",
       "  <thead>\n",
       "    <tr style=\"text-align: right;\">\n",
       "      <th></th>\n",
       "      <th>Profile Name</th>\n",
       "      <th>Start Time</th>\n",
       "      <th>Duration</th>\n",
       "      <th>Attributes</th>\n",
       "      <th>Title</th>\n",
       "      <th>Supplemental Video Type</th>\n",
       "      <th>Device Type</th>\n",
       "      <th>Bookmark</th>\n",
       "      <th>Latest Bookmark</th>\n",
       "      <th>Country</th>\n",
       "    </tr>\n",
       "  </thead>\n",
       "  <tbody>\n",
       "    <tr>\n",
       "      <th>60</th>\n",
       "      <td>Code &amp; Dogs</td>\n",
       "      <td>2022-08-26 18:37:47</td>\n",
       "      <td>00:00:19</td>\n",
       "      <td>Autoplayed: user action: None;</td>\n",
       "      <td>Staffel 1 (Clip 8): Kleo</td>\n",
       "      <td>HOOK</td>\n",
       "      <td>FireTV 4K Stick 2018</td>\n",
       "      <td>00:00:19</td>\n",
       "      <td>00:00:19</td>\n",
       "      <td>DE (Germany)</td>\n",
       "    </tr>\n",
       "    <tr>\n",
       "      <th>112</th>\n",
       "      <td>Brother &amp; Wife</td>\n",
       "      <td>2022-02-09 10:24:46</td>\n",
       "      <td>00:00:26</td>\n",
       "      <td>Autoplayed: user action: None;</td>\n",
       "      <td>Staffel 1 (Trailer): All of Us Are Dead</td>\n",
       "      <td>TRAILER</td>\n",
       "      <td>Samsung CE 2019 Muse-L UHD TV Smart TV</td>\n",
       "      <td>00:00:26</td>\n",
       "      <td>00:00:26</td>\n",
       "      <td>DE (Germany)</td>\n",
       "    </tr>\n",
       "    <tr>\n",
       "      <th>151</th>\n",
       "      <td>Brother &amp; Wife</td>\n",
       "      <td>2022-02-01 10:12:25</td>\n",
       "      <td>00:50:59</td>\n",
       "      <td>Autoplayed: user action: User_Interaction;</td>\n",
       "      <td>The Witcher: Staffel 2: Kaer Morhen (Folge 2)</td>\n",
       "      <td>NaN</td>\n",
       "      <td>Samsung CE 2019 Muse-L UHD TV Smart TV</td>\n",
       "      <td>00:51:03</td>\n",
       "      <td>Not latest view</td>\n",
       "      <td>DE (Germany)</td>\n",
       "    </tr>\n",
       "    <tr>\n",
       "      <th>85</th>\n",
       "      <td>Kids</td>\n",
       "      <td>2021-08-27 16:35:23</td>\n",
       "      <td>00:00:21</td>\n",
       "      <td>NaN</td>\n",
       "      <td>DreamWorks Dragons: Auf zu neuen Ufern: Staffe...</td>\n",
       "      <td>NaN</td>\n",
       "      <td>Sony Sony Android TV 2015 Smart TV</td>\n",
       "      <td>00:00:03</td>\n",
       "      <td>Not latest view</td>\n",
       "      <td>DE (Germany)</td>\n",
       "    </tr>\n",
       "    <tr>\n",
       "      <th>103</th>\n",
       "      <td>Kids</td>\n",
       "      <td>2021-08-21 13:02:11</td>\n",
       "      <td>00:04:34</td>\n",
       "      <td>NaN</td>\n",
       "      <td>The LEGO Ninjago Movie: Staffel 1 - Secrets of...</td>\n",
       "      <td>NaN</td>\n",
       "      <td>Samsung CE 2019 Muse-L UHD TV Smart TV</td>\n",
       "      <td>00:04:34</td>\n",
       "      <td>Not latest view</td>\n",
       "      <td>DE (Germany)</td>\n",
       "    </tr>\n",
       "    <tr>\n",
       "      <th>166</th>\n",
       "      <td>Brother &amp; Wife</td>\n",
       "      <td>2022-01-27 21:08:23</td>\n",
       "      <td>00:59:32</td>\n",
       "      <td>Autoplayed: user action: User_Interaction;</td>\n",
       "      <td>The Witcher: Staffel 1: Bankette, Bastarde und...</td>\n",
       "      <td>NaN</td>\n",
       "      <td>Samsung CE 2019 Muse-L UHD TV Smart TV</td>\n",
       "      <td>00:59:39</td>\n",
       "      <td>00:59:39</td>\n",
       "      <td>DE (Germany)</td>\n",
       "    </tr>\n",
       "    <tr>\n",
       "      <th>143</th>\n",
       "      <td>Brother &amp; Wife</td>\n",
       "      <td>2022-02-02 22:25:21</td>\n",
       "      <td>00:00:10</td>\n",
       "      <td>NaN</td>\n",
       "      <td>The Witcher: Staffel 2: Lieber Freund … (Folge 6)</td>\n",
       "      <td>NaN</td>\n",
       "      <td>Samsung CE 2019 Muse-L UHD TV Smart TV</td>\n",
       "      <td>00:00:16</td>\n",
       "      <td>Not latest view</td>\n",
       "      <td>DE (Germany)</td>\n",
       "    </tr>\n",
       "    <tr>\n",
       "      <th>136</th>\n",
       "      <td>Brother &amp; Wife</td>\n",
       "      <td>2022-02-03 20:07:37</td>\n",
       "      <td>00:01:25</td>\n",
       "      <td>Autoplayed: user action: None;</td>\n",
       "      <td>Pokémon: Mewtu schlägt zurück – Evolution (Tra...</td>\n",
       "      <td>TRAILER</td>\n",
       "      <td>Samsung CE 2019 Muse-L UHD TV Smart TV</td>\n",
       "      <td>00:01:26</td>\n",
       "      <td>00:01:26</td>\n",
       "      <td>DE (Germany)</td>\n",
       "    </tr>\n",
       "    <tr>\n",
       "      <th>122</th>\n",
       "      <td>Brother &amp; Wife</td>\n",
       "      <td>2022-02-05 16:48:21</td>\n",
       "      <td>00:00:14</td>\n",
       "      <td>Autoplayed: user action: None;</td>\n",
       "      <td>Staffel 1 (Trailer 2): All of Us Are Dead</td>\n",
       "      <td>TRAILER</td>\n",
       "      <td>Samsung CE 2019 Muse-L UHD TV Smart TV</td>\n",
       "      <td>00:00:14</td>\n",
       "      <td>Not latest view</td>\n",
       "      <td>DE (Germany)</td>\n",
       "    </tr>\n",
       "    <tr>\n",
       "      <th>130</th>\n",
       "      <td>Brother &amp; Wife</td>\n",
       "      <td>2022-02-04 10:13:08</td>\n",
       "      <td>00:46:21</td>\n",
       "      <td>Autoplayed: user action: None;</td>\n",
       "      <td>All of Us Are Dead: Staffel 1: Folge 4 (Folge 4)</td>\n",
       "      <td>NaN</td>\n",
       "      <td>Samsung CE 2019 Muse-L UHD TV Smart TV</td>\n",
       "      <td>00:46:29</td>\n",
       "      <td>Not latest view</td>\n",
       "      <td>DE (Germany)</td>\n",
       "    </tr>\n",
       "  </tbody>\n",
       "</table>\n",
       "</div>"
      ],
      "text/plain": [
       "       Profile Name           Start Time  Duration  \\\n",
       "60      Code & Dogs  2022-08-26 18:37:47  00:00:19   \n",
       "112  Brother & Wife  2022-02-09 10:24:46  00:00:26   \n",
       "151  Brother & Wife  2022-02-01 10:12:25  00:50:59   \n",
       "85             Kids  2021-08-27 16:35:23  00:00:21   \n",
       "103            Kids  2021-08-21 13:02:11  00:04:34   \n",
       "166  Brother & Wife  2022-01-27 21:08:23  00:59:32   \n",
       "143  Brother & Wife  2022-02-02 22:25:21  00:00:10   \n",
       "136  Brother & Wife  2022-02-03 20:07:37  00:01:25   \n",
       "122  Brother & Wife  2022-02-05 16:48:21  00:00:14   \n",
       "130  Brother & Wife  2022-02-04 10:13:08  00:46:21   \n",
       "\n",
       "                                      Attributes  \\\n",
       "60               Autoplayed: user action: None;    \n",
       "112              Autoplayed: user action: None;    \n",
       "151  Autoplayed: user action: User_Interaction;    \n",
       "85                                           NaN   \n",
       "103                                          NaN   \n",
       "166  Autoplayed: user action: User_Interaction;    \n",
       "143                                          NaN   \n",
       "136              Autoplayed: user action: None;    \n",
       "122              Autoplayed: user action: None;    \n",
       "130              Autoplayed: user action: None;    \n",
       "\n",
       "                                                 Title  \\\n",
       "60                            Staffel 1 (Clip 8): Kleo   \n",
       "112            Staffel 1 (Trailer): All of Us Are Dead   \n",
       "151      The Witcher: Staffel 2: Kaer Morhen (Folge 2)   \n",
       "85   DreamWorks Dragons: Auf zu neuen Ufern: Staffe...   \n",
       "103  The LEGO Ninjago Movie: Staffel 1 - Secrets of...   \n",
       "166  The Witcher: Staffel 1: Bankette, Bastarde und...   \n",
       "143  The Witcher: Staffel 2: Lieber Freund … (Folge 6)   \n",
       "136  Pokémon: Mewtu schlägt zurück – Evolution (Tra...   \n",
       "122          Staffel 1 (Trailer 2): All of Us Are Dead   \n",
       "130   All of Us Are Dead: Staffel 1: Folge 4 (Folge 4)   \n",
       "\n",
       "    Supplemental Video Type                             Device Type  Bookmark  \\\n",
       "60                     HOOK                    FireTV 4K Stick 2018  00:00:19   \n",
       "112                 TRAILER  Samsung CE 2019 Muse-L UHD TV Smart TV  00:00:26   \n",
       "151                     NaN  Samsung CE 2019 Muse-L UHD TV Smart TV  00:51:03   \n",
       "85                      NaN      Sony Sony Android TV 2015 Smart TV  00:00:03   \n",
       "103                     NaN  Samsung CE 2019 Muse-L UHD TV Smart TV  00:04:34   \n",
       "166                     NaN  Samsung CE 2019 Muse-L UHD TV Smart TV  00:59:39   \n",
       "143                     NaN  Samsung CE 2019 Muse-L UHD TV Smart TV  00:00:16   \n",
       "136                 TRAILER  Samsung CE 2019 Muse-L UHD TV Smart TV  00:01:26   \n",
       "122                 TRAILER  Samsung CE 2019 Muse-L UHD TV Smart TV  00:00:14   \n",
       "130                     NaN  Samsung CE 2019 Muse-L UHD TV Smart TV  00:46:29   \n",
       "\n",
       "     Latest Bookmark       Country  \n",
       "60          00:00:19  DE (Germany)  \n",
       "112         00:00:26  DE (Germany)  \n",
       "151  Not latest view  DE (Germany)  \n",
       "85   Not latest view  DE (Germany)  \n",
       "103  Not latest view  DE (Germany)  \n",
       "166         00:59:39  DE (Germany)  \n",
       "143  Not latest view  DE (Germany)  \n",
       "136         00:01:26  DE (Germany)  \n",
       "122  Not latest view  DE (Germany)  \n",
       "130  Not latest view  DE (Germany)  "
      ]
     },
     "execution_count": 88,
     "metadata": {},
     "output_type": "execute_result"
    }
   ],
   "source": [
    "df.sample(n=10) #returns a random sample of 10 rows"
   ]
  },
  {
   "cell_type": "code",
   "execution_count": 89,
   "metadata": {},
   "outputs": [
    {
     "data": {
      "text/plain": [
       "array(['Mom & Dad', 'Friends', 'Code & Dogs', 'Kids', 'Brother & Wife'],\n",
       "      dtype=object)"
      ]
     },
     "execution_count": 89,
     "metadata": {},
     "output_type": "execute_result"
    }
   ],
   "source": [
    "\n",
    "df[\"Profile Name\"].unique() #returns the different profile names in Profile category"
   ]
  },
  {
   "cell_type": "code",
   "execution_count": 90,
   "metadata": {},
   "outputs": [
    {
     "data": {
      "text/plain": [
       "array(['Samsung CE 2020 Nike-L UHD TV Smart TV', 'FireTV 4K Stick 2018',\n",
       "       'FireTV Stick 2016', 'Sky UK skyamidalade MVPD STB',\n",
       "       'Sky UK IP100 MVPD STB',\n",
       "       'Sony Sony Android TV 2018 M2 4K Smart TV',\n",
       "       'Apple iPad Pro 12.9 in 5th Gen (Wi-Fi/Cell) iPad',\n",
       "       'Sony Sony Android TV 2015 Smart TV',\n",
       "       'Sony CE Sony Android TV 2020 M5 Smart TV',\n",
       "       'Samsung CE 2019 Muse-L UHD TV Smart TV'], dtype=object)"
      ]
     },
     "execution_count": 90,
     "metadata": {},
     "output_type": "execute_result"
    }
   ],
   "source": [
    "\n",
    "df[\"Device Type\"].unique() #returns the different unique devices in Device Name category"
   ]
  },
  {
   "cell_type": "code",
   "execution_count": 91,
   "metadata": {},
   "outputs": [
    {
     "data": {
      "text/plain": [
       "Profile Name               object\n",
       "Start Time                 object\n",
       "Duration                   object\n",
       "Attributes                 object\n",
       "Title                      object\n",
       "Supplemental Video Type    object\n",
       "Device Type                object\n",
       "Bookmark                   object\n",
       "Latest Bookmark            object\n",
       "Country                    object\n",
       "dtype: object"
      ]
     },
     "execution_count": 91,
     "metadata": {},
     "output_type": "execute_result"
    }
   ],
   "source": [
    "df.dtypes #shows types of data (all objects in this case)"
   ]
  },
  {
   "cell_type": "code",
   "execution_count": 92,
   "metadata": {},
   "outputs": [
    {
     "data": {
      "text/plain": [
       "Profile Name                            object\n",
       "Start Time                 datetime64[ns, UTC]\n",
       "Duration                       timedelta64[ns]\n",
       "Attributes                              object\n",
       "Title                                   object\n",
       "Supplemental Video Type                 object\n",
       "Device Type                             object\n",
       "Bookmark                                object\n",
       "Latest Bookmark                         object\n",
       "Country                                 object\n",
       "dtype: object"
      ]
     },
     "execution_count": 92,
     "metadata": {},
     "output_type": "execute_result"
    }
   ],
   "source": [
    "df['Start Time'] = pd.to_datetime(df['Start Time'], utc=True) #convert start time data to datetimes\n",
    "df['Duration'] = pd.to_timedelta(df['Duration']) #convert duration data to timedelta\n",
    "df.dtypes"
   ]
  },
  {
   "cell_type": "code",
   "execution_count": 93,
   "metadata": {},
   "outputs": [
    {
     "data": {
      "text/html": [
       "<div>\n",
       "<style scoped>\n",
       "    .dataframe tbody tr th:only-of-type {\n",
       "        vertical-align: middle;\n",
       "    }\n",
       "\n",
       "    .dataframe tbody tr th {\n",
       "        vertical-align: top;\n",
       "    }\n",
       "\n",
       "    .dataframe thead th {\n",
       "        text-align: right;\n",
       "    }\n",
       "</style>\n",
       "<table border=\"1\" class=\"dataframe\">\n",
       "  <thead>\n",
       "    <tr style=\"text-align: right;\">\n",
       "      <th></th>\n",
       "      <th>Profile Name</th>\n",
       "      <th>Start Time</th>\n",
       "      <th>Duration</th>\n",
       "      <th>Attributes</th>\n",
       "      <th>Title</th>\n",
       "      <th>Supplemental Video Type</th>\n",
       "      <th>Device Type</th>\n",
       "      <th>Bookmark</th>\n",
       "      <th>Latest Bookmark</th>\n",
       "      <th>Country</th>\n",
       "    </tr>\n",
       "  </thead>\n",
       "  <tbody>\n",
       "    <tr>\n",
       "      <th>9</th>\n",
       "      <td>Mom &amp; Dad</td>\n",
       "      <td>2022-09-26 17:32:06+00:00</td>\n",
       "      <td>0 days 00:00:09</td>\n",
       "      <td>Autoplayed: user action: None;</td>\n",
       "      <td>1939_hook_primary_16x9</td>\n",
       "      <td>HOOK</td>\n",
       "      <td>FireTV 4K Stick 2018</td>\n",
       "      <td>00:00:09</td>\n",
       "      <td>Not latest view</td>\n",
       "      <td>DE (Germany)</td>\n",
       "    </tr>\n",
       "    <tr>\n",
       "      <th>68</th>\n",
       "      <td>Code &amp; Dogs</td>\n",
       "      <td>2022-08-17 20:02:05+00:00</td>\n",
       "      <td>0 days 00:03:54</td>\n",
       "      <td>NaN</td>\n",
       "      <td>Keeping Up with the Kardashians: Staffel 7: Ge...</td>\n",
       "      <td>NaN</td>\n",
       "      <td>Apple iPad Pro 12.9 in 5th Gen (Wi-Fi/Cell) iPad</td>\n",
       "      <td>00:24:40</td>\n",
       "      <td>Not latest view</td>\n",
       "      <td>DE (Germany)</td>\n",
       "    </tr>\n",
       "    <tr>\n",
       "      <th>98</th>\n",
       "      <td>Kids</td>\n",
       "      <td>2021-08-23 15:14:57+00:00</td>\n",
       "      <td>0 days 00:21:46</td>\n",
       "      <td>Autoplayed: user action: User_Interaction;</td>\n",
       "      <td>PJ Masks – Pyjamahelden: Staffel 2: Mondrausch...</td>\n",
       "      <td>NaN</td>\n",
       "      <td>Sony CE Sony Android TV 2020 M5 Smart TV</td>\n",
       "      <td>00:24:03</td>\n",
       "      <td>00:24:03</td>\n",
       "      <td>DE (Germany)</td>\n",
       "    </tr>\n",
       "    <tr>\n",
       "      <th>142</th>\n",
       "      <td>Brother &amp; Wife</td>\n",
       "      <td>2022-02-03 07:21:31+00:00</td>\n",
       "      <td>0 days 00:52:47</td>\n",
       "      <td>NaN</td>\n",
       "      <td>The Witcher: Staffel 2: Lieber Freund … (Folge 6)</td>\n",
       "      <td>NaN</td>\n",
       "      <td>Samsung CE 2019 Muse-L UHD TV Smart TV</td>\n",
       "      <td>00:53:03</td>\n",
       "      <td>00:53:03</td>\n",
       "      <td>DE (Germany)</td>\n",
       "    </tr>\n",
       "    <tr>\n",
       "      <th>4</th>\n",
       "      <td>Mom &amp; Dad</td>\n",
       "      <td>2022-09-26 18:35:07+00:00</td>\n",
       "      <td>0 days 00:00:13</td>\n",
       "      <td>Autoplayed: user action: None;</td>\n",
       "      <td>Lou (Clip 5): Lou</td>\n",
       "      <td>HOOK</td>\n",
       "      <td>Samsung CE 2020 Nike-L UHD TV Smart TV</td>\n",
       "      <td>00:00:13</td>\n",
       "      <td>00:00:13</td>\n",
       "      <td>DE (Germany)</td>\n",
       "    </tr>\n",
       "    <tr>\n",
       "      <th>112</th>\n",
       "      <td>Brother &amp; Wife</td>\n",
       "      <td>2022-02-09 10:24:46+00:00</td>\n",
       "      <td>0 days 00:00:26</td>\n",
       "      <td>Autoplayed: user action: None;</td>\n",
       "      <td>Staffel 1 (Trailer): All of Us Are Dead</td>\n",
       "      <td>TRAILER</td>\n",
       "      <td>Samsung CE 2019 Muse-L UHD TV Smart TV</td>\n",
       "      <td>00:00:26</td>\n",
       "      <td>00:00:26</td>\n",
       "      <td>DE (Germany)</td>\n",
       "    </tr>\n",
       "    <tr>\n",
       "      <th>82</th>\n",
       "      <td>Kids</td>\n",
       "      <td>2021-08-28 16:27:19+00:00</td>\n",
       "      <td>0 days 00:22:28</td>\n",
       "      <td>NaN</td>\n",
       "      <td>DreamWorks Dragons: Auf zu neuen Ufern: Staffe...</td>\n",
       "      <td>NaN</td>\n",
       "      <td>Sony Sony Android TV 2015 Smart TV</td>\n",
       "      <td>00:22:29</td>\n",
       "      <td>Not latest view</td>\n",
       "      <td>DE (Germany)</td>\n",
       "    </tr>\n",
       "    <tr>\n",
       "      <th>49</th>\n",
       "      <td>Code &amp; Dogs</td>\n",
       "      <td>2022-08-27 11:26:10+00:00</td>\n",
       "      <td>0 days 00:45:14</td>\n",
       "      <td>NaN</td>\n",
       "      <td>Instant Dream Home: Staffel 1: Baby an Bord (F...</td>\n",
       "      <td>NaN</td>\n",
       "      <td>FireTV 4K Stick 2018</td>\n",
       "      <td>00:45:14</td>\n",
       "      <td>00:45:14</td>\n",
       "      <td>DE (Germany)</td>\n",
       "    </tr>\n",
       "    <tr>\n",
       "      <th>165</th>\n",
       "      <td>Brother &amp; Wife</td>\n",
       "      <td>2022-01-27 22:18:47+00:00</td>\n",
       "      <td>0 days 00:56:28</td>\n",
       "      <td>NaN</td>\n",
       "      <td>The Witcher: Staffel 1: Aufgestaute Begehren (...</td>\n",
       "      <td>NaN</td>\n",
       "      <td>Samsung CE 2019 Muse-L UHD TV Smart TV</td>\n",
       "      <td>00:56:36</td>\n",
       "      <td>00:56:36</td>\n",
       "      <td>DE (Germany)</td>\n",
       "    </tr>\n",
       "    <tr>\n",
       "      <th>16</th>\n",
       "      <td>Mom &amp; Dad</td>\n",
       "      <td>2022-09-26 17:30:29+00:00</td>\n",
       "      <td>0 days 00:00:09</td>\n",
       "      <td>Autoplayed: user action: None;</td>\n",
       "      <td>Seven Pounds_hook_primary_16x9</td>\n",
       "      <td>HOOK</td>\n",
       "      <td>FireTV 4K Stick 2018</td>\n",
       "      <td>00:00:09</td>\n",
       "      <td>00:00:09</td>\n",
       "      <td>DE (Germany)</td>\n",
       "    </tr>\n",
       "  </tbody>\n",
       "</table>\n",
       "</div>"
      ],
      "text/plain": [
       "       Profile Name                Start Time        Duration  \\\n",
       "9         Mom & Dad 2022-09-26 17:32:06+00:00 0 days 00:00:09   \n",
       "68      Code & Dogs 2022-08-17 20:02:05+00:00 0 days 00:03:54   \n",
       "98             Kids 2021-08-23 15:14:57+00:00 0 days 00:21:46   \n",
       "142  Brother & Wife 2022-02-03 07:21:31+00:00 0 days 00:52:47   \n",
       "4         Mom & Dad 2022-09-26 18:35:07+00:00 0 days 00:00:13   \n",
       "112  Brother & Wife 2022-02-09 10:24:46+00:00 0 days 00:00:26   \n",
       "82             Kids 2021-08-28 16:27:19+00:00 0 days 00:22:28   \n",
       "49      Code & Dogs 2022-08-27 11:26:10+00:00 0 days 00:45:14   \n",
       "165  Brother & Wife 2022-01-27 22:18:47+00:00 0 days 00:56:28   \n",
       "16        Mom & Dad 2022-09-26 17:30:29+00:00 0 days 00:00:09   \n",
       "\n",
       "                                      Attributes  \\\n",
       "9                Autoplayed: user action: None;    \n",
       "68                                           NaN   \n",
       "98   Autoplayed: user action: User_Interaction;    \n",
       "142                                          NaN   \n",
       "4                Autoplayed: user action: None;    \n",
       "112              Autoplayed: user action: None;    \n",
       "82                                           NaN   \n",
       "49                                           NaN   \n",
       "165                                          NaN   \n",
       "16               Autoplayed: user action: None;    \n",
       "\n",
       "                                                 Title  \\\n",
       "9                               1939_hook_primary_16x9   \n",
       "68   Keeping Up with the Kardashians: Staffel 7: Ge...   \n",
       "98   PJ Masks – Pyjamahelden: Staffel 2: Mondrausch...   \n",
       "142  The Witcher: Staffel 2: Lieber Freund … (Folge 6)   \n",
       "4                                    Lou (Clip 5): Lou   \n",
       "112            Staffel 1 (Trailer): All of Us Are Dead   \n",
       "82   DreamWorks Dragons: Auf zu neuen Ufern: Staffe...   \n",
       "49   Instant Dream Home: Staffel 1: Baby an Bord (F...   \n",
       "165  The Witcher: Staffel 1: Aufgestaute Begehren (...   \n",
       "16                      Seven Pounds_hook_primary_16x9   \n",
       "\n",
       "    Supplemental Video Type                                       Device Type  \\\n",
       "9                      HOOK                              FireTV 4K Stick 2018   \n",
       "68                      NaN  Apple iPad Pro 12.9 in 5th Gen (Wi-Fi/Cell) iPad   \n",
       "98                      NaN          Sony CE Sony Android TV 2020 M5 Smart TV   \n",
       "142                     NaN            Samsung CE 2019 Muse-L UHD TV Smart TV   \n",
       "4                      HOOK            Samsung CE 2020 Nike-L UHD TV Smart TV   \n",
       "112                 TRAILER            Samsung CE 2019 Muse-L UHD TV Smart TV   \n",
       "82                      NaN                Sony Sony Android TV 2015 Smart TV   \n",
       "49                      NaN                              FireTV 4K Stick 2018   \n",
       "165                     NaN            Samsung CE 2019 Muse-L UHD TV Smart TV   \n",
       "16                     HOOK                              FireTV 4K Stick 2018   \n",
       "\n",
       "     Bookmark  Latest Bookmark       Country  \n",
       "9    00:00:09  Not latest view  DE (Germany)  \n",
       "68   00:24:40  Not latest view  DE (Germany)  \n",
       "98   00:24:03         00:24:03  DE (Germany)  \n",
       "142  00:53:03         00:53:03  DE (Germany)  \n",
       "4    00:00:13         00:00:13  DE (Germany)  \n",
       "112  00:00:26         00:00:26  DE (Germany)  \n",
       "82   00:22:29  Not latest view  DE (Germany)  \n",
       "49   00:45:14         00:45:14  DE (Germany)  \n",
       "165  00:56:36         00:56:36  DE (Germany)  \n",
       "16   00:00:09         00:00:09  DE (Germany)  "
      ]
     },
     "execution_count": 93,
     "metadata": {},
     "output_type": "execute_result"
    }
   ],
   "source": [
    "df.sample(n=10)"
   ]
  },
  {
   "cell_type": "code",
   "execution_count": 94,
   "metadata": {},
   "outputs": [
    {
     "data": {
      "text/plain": [
       "Profile Name\n",
       "Brother & Wife    55\n",
       "Code & Dogs       40\n",
       "Kids              31\n",
       "Friends           22\n",
       "Mom & Dad         19\n",
       "Name: count, dtype: int64"
      ]
     },
     "execution_count": 94,
     "metadata": {},
     "output_type": "execute_result"
    }
   ],
   "source": [
    "df['Profile Name'].value_counts() #counts number of occurences of values for each unique profile name key. "
   ]
  },
  {
   "cell_type": "code",
   "execution_count": 95,
   "metadata": {},
   "outputs": [
    {
     "data": {
      "image/png": "[encoded data removed]",
      "text/plain": [
       "<Figure size 640x480 with 1 Axes>"
      ]
     },
     "metadata": {},
     "output_type": "display_data"
    }
   ],
   "source": [
    "%matplotlib inline\n",
    "import matplotlib\n",
    "import matplotlib.pyplot as plt\n",
    "df['Profile Name'].value_counts().plot(kind='bar') #create bar graph of number of occurences of profile name\n",
    "plt.show()"
   ]
  },
  {
   "cell_type": "code",
   "execution_count": 96,
   "metadata": {},
   "outputs": [
    {
     "data": {
      "text/plain": [
       "Timedelta('2 days 06:16:44')"
      ]
     },
     "execution_count": 96,
     "metadata": {},
     "output_type": "execute_result"
    }
   ],
   "source": [
    "df['Duration'].sum()"
   ]
  },
  {
   "cell_type": "code",
   "execution_count": 97,
   "metadata": {},
   "outputs": [
    {
     "data": {
      "text/html": [
       "<div>\n",
       "<style scoped>\n",
       "    .dataframe tbody tr th:only-of-type {\n",
       "        vertical-align: middle;\n",
       "    }\n",
       "\n",
       "    .dataframe tbody tr th {\n",
       "        vertical-align: top;\n",
       "    }\n",
       "\n",
       "    .dataframe thead th {\n",
       "        text-align: right;\n",
       "    }\n",
       "</style>\n",
       "<table border=\"1\" class=\"dataframe\">\n",
       "  <thead>\n",
       "    <tr style=\"text-align: right;\">\n",
       "      <th></th>\n",
       "      <th>Profile Name</th>\n",
       "      <th>Start Time</th>\n",
       "      <th>Duration</th>\n",
       "      <th>Attributes</th>\n",
       "      <th>Title</th>\n",
       "      <th>Supplemental Video Type</th>\n",
       "      <th>Device Type</th>\n",
       "      <th>Bookmark</th>\n",
       "      <th>Latest Bookmark</th>\n",
       "      <th>Country</th>\n",
       "    </tr>\n",
       "  </thead>\n",
       "  <tbody>\n",
       "    <tr>\n",
       "      <th>40</th>\n",
       "      <td>Friends</td>\n",
       "      <td>2020-06-06 18:27:04+00:00</td>\n",
       "      <td>0 days 00:46:51</td>\n",
       "      <td>Autoplayed: user action: Unspecified;</td>\n",
       "      <td>Haus des Geldes: Teil 1: Folge 1 (Folge 1)</td>\n",
       "      <td>NaN</td>\n",
       "      <td>Sony Sony Android TV 2018 M2 4K Smart TV</td>\n",
       "      <td>00:46:51</td>\n",
       "      <td>00:46:51</td>\n",
       "      <td>DE (Germany)</td>\n",
       "    </tr>\n",
       "    <tr>\n",
       "      <th>39</th>\n",
       "      <td>Friends</td>\n",
       "      <td>2020-06-06 19:13:59+00:00</td>\n",
       "      <td>0 days 00:39:21</td>\n",
       "      <td>Autoplayed: user action: None;</td>\n",
       "      <td>Haus des Geldes: Teil 1: Folge 2 (Folge 2)</td>\n",
       "      <td>NaN</td>\n",
       "      <td>Sony Sony Android TV 2018 M2 4K Smart TV</td>\n",
       "      <td>00:40:37</td>\n",
       "      <td>00:40:37</td>\n",
       "      <td>DE (Germany)</td>\n",
       "    </tr>\n",
       "    <tr>\n",
       "      <th>38</th>\n",
       "      <td>Friends</td>\n",
       "      <td>2020-06-08 18:00:17+00:00</td>\n",
       "      <td>0 days 00:49:11</td>\n",
       "      <td>Autoplayed: user action: Unspecified;</td>\n",
       "      <td>Haus des Geldes: Teil 1: Folge 3 (Folge 3)</td>\n",
       "      <td>NaN</td>\n",
       "      <td>Sony Sony Android TV 2018 M2 4K Smart TV</td>\n",
       "      <td>00:50:00</td>\n",
       "      <td>00:50:00</td>\n",
       "      <td>DE (Germany)</td>\n",
       "    </tr>\n",
       "    <tr>\n",
       "      <th>37</th>\n",
       "      <td>Friends</td>\n",
       "      <td>2020-06-08 18:49:32+00:00</td>\n",
       "      <td>0 days 00:49:51</td>\n",
       "      <td>Autoplayed: user action: Unspecified;</td>\n",
       "      <td>Haus des Geldes: Teil 1: Folge 4 (Folge 4)</td>\n",
       "      <td>NaN</td>\n",
       "      <td>Sony Sony Android TV 2018 M2 4K Smart TV</td>\n",
       "      <td>00:50:45</td>\n",
       "      <td>00:50:45</td>\n",
       "      <td>DE (Germany)</td>\n",
       "    </tr>\n",
       "    <tr>\n",
       "      <th>36</th>\n",
       "      <td>Friends</td>\n",
       "      <td>2020-06-08 19:39:27+00:00</td>\n",
       "      <td>0 days 00:00:04</td>\n",
       "      <td>Autoplayed: user action: None;</td>\n",
       "      <td>Haus des Geldes: Teil 1: Folge 5 (Folge 5)</td>\n",
       "      <td>NaN</td>\n",
       "      <td>Sony Sony Android TV 2018 M2 4K Smart TV</td>\n",
       "      <td>00:00:10</td>\n",
       "      <td>00:00:10</td>\n",
       "      <td>DE (Germany)</td>\n",
       "    </tr>\n",
       "    <tr>\n",
       "      <th>...</th>\n",
       "      <td>...</td>\n",
       "      <td>...</td>\n",
       "      <td>...</td>\n",
       "      <td>...</td>\n",
       "      <td>...</td>\n",
       "      <td>...</td>\n",
       "      <td>...</td>\n",
       "      <td>...</td>\n",
       "      <td>...</td>\n",
       "      <td>...</td>\n",
       "    </tr>\n",
       "    <tr>\n",
       "      <th>4</th>\n",
       "      <td>Mom &amp; Dad</td>\n",
       "      <td>2022-09-26 18:35:07+00:00</td>\n",
       "      <td>0 days 00:00:13</td>\n",
       "      <td>Autoplayed: user action: None;</td>\n",
       "      <td>Lou (Clip 5): Lou</td>\n",
       "      <td>HOOK</td>\n",
       "      <td>Samsung CE 2020 Nike-L UHD TV Smart TV</td>\n",
       "      <td>00:00:13</td>\n",
       "      <td>00:00:13</td>\n",
       "      <td>DE (Germany)</td>\n",
       "    </tr>\n",
       "    <tr>\n",
       "      <th>3</th>\n",
       "      <td>Mom &amp; Dad</td>\n",
       "      <td>2022-09-26 18:35:22+00:00</td>\n",
       "      <td>0 days 01:41:17</td>\n",
       "      <td>NaN</td>\n",
       "      <td>Lou</td>\n",
       "      <td>NaN</td>\n",
       "      <td>Samsung CE 2020 Nike-L UHD TV Smart TV</td>\n",
       "      <td>01:41:19</td>\n",
       "      <td>01:41:19</td>\n",
       "      <td>DE (Germany)</td>\n",
       "    </tr>\n",
       "    <tr>\n",
       "      <th>2</th>\n",
       "      <td>Mom &amp; Dad</td>\n",
       "      <td>2022-09-27 18:58:40+00:00</td>\n",
       "      <td>0 days 00:00:06</td>\n",
       "      <td>Autoplayed: user action: None;</td>\n",
       "      <td>A Jazzman's Blues (Clip): A Jazzman's Blues</td>\n",
       "      <td>HOOK</td>\n",
       "      <td>Samsung CE 2020 Nike-L UHD TV Smart TV</td>\n",
       "      <td>00:00:06</td>\n",
       "      <td>00:00:06</td>\n",
       "      <td>DE (Germany)</td>\n",
       "    </tr>\n",
       "    <tr>\n",
       "      <th>1</th>\n",
       "      <td>Mom &amp; Dad</td>\n",
       "      <td>2022-09-27 19:00:02+00:00</td>\n",
       "      <td>0 days 02:09:10</td>\n",
       "      <td>Autoplayed: user action: User_Interaction;</td>\n",
       "      <td>A Beautiful Mind – Genie und Wahnsinn</td>\n",
       "      <td>NaN</td>\n",
       "      <td>Samsung CE 2020 Nike-L UHD TV Smart TV</td>\n",
       "      <td>02:09:11</td>\n",
       "      <td>02:09:11</td>\n",
       "      <td>DE (Germany)</td>\n",
       "    </tr>\n",
       "    <tr>\n",
       "      <th>0</th>\n",
       "      <td>Mom &amp; Dad</td>\n",
       "      <td>2022-09-27 21:16:43+00:00</td>\n",
       "      <td>0 days 00:00:13</td>\n",
       "      <td>Autoplayed: user action: None;</td>\n",
       "      <td>Die Strafe Gottes (Clip): Die Strafe Gottes</td>\n",
       "      <td>HOOK</td>\n",
       "      <td>Samsung CE 2020 Nike-L UHD TV Smart TV</td>\n",
       "      <td>00:00:13</td>\n",
       "      <td>00:00:13</td>\n",
       "      <td>DE (Germany)</td>\n",
       "    </tr>\n",
       "  </tbody>\n",
       "</table>\n",
       "<p>167 rows × 10 columns</p>\n",
       "</div>"
      ],
      "text/plain": [
       "   Profile Name                Start Time        Duration  \\\n",
       "40      Friends 2020-06-06 18:27:04+00:00 0 days 00:46:51   \n",
       "39      Friends 2020-06-06 19:13:59+00:00 0 days 00:39:21   \n",
       "38      Friends 2020-06-08 18:00:17+00:00 0 days 00:49:11   \n",
       "37      Friends 2020-06-08 18:49:32+00:00 0 days 00:49:51   \n",
       "36      Friends 2020-06-08 19:39:27+00:00 0 days 00:00:04   \n",
       "..          ...                       ...             ...   \n",
       "4     Mom & Dad 2022-09-26 18:35:07+00:00 0 days 00:00:13   \n",
       "3     Mom & Dad 2022-09-26 18:35:22+00:00 0 days 01:41:17   \n",
       "2     Mom & Dad 2022-09-27 18:58:40+00:00 0 days 00:00:06   \n",
       "1     Mom & Dad 2022-09-27 19:00:02+00:00 0 days 02:09:10   \n",
       "0     Mom & Dad 2022-09-27 21:16:43+00:00 0 days 00:00:13   \n",
       "\n",
       "                                     Attributes  \\\n",
       "40       Autoplayed: user action: Unspecified;    \n",
       "39              Autoplayed: user action: None;    \n",
       "38       Autoplayed: user action: Unspecified;    \n",
       "37       Autoplayed: user action: Unspecified;    \n",
       "36              Autoplayed: user action: None;    \n",
       "..                                          ...   \n",
       "4               Autoplayed: user action: None;    \n",
       "3                                           NaN   \n",
       "2               Autoplayed: user action: None;    \n",
       "1   Autoplayed: user action: User_Interaction;    \n",
       "0               Autoplayed: user action: None;    \n",
       "\n",
       "                                          Title Supplemental Video Type  \\\n",
       "40   Haus des Geldes: Teil 1: Folge 1 (Folge 1)                     NaN   \n",
       "39   Haus des Geldes: Teil 1: Folge 2 (Folge 2)                     NaN   \n",
       "38   Haus des Geldes: Teil 1: Folge 3 (Folge 3)                     NaN   \n",
       "37   Haus des Geldes: Teil 1: Folge 4 (Folge 4)                     NaN   \n",
       "36   Haus des Geldes: Teil 1: Folge 5 (Folge 5)                     NaN   \n",
       "..                                          ...                     ...   \n",
       "4                             Lou (Clip 5): Lou                    HOOK   \n",
       "3                                           Lou                     NaN   \n",
       "2   A Jazzman's Blues (Clip): A Jazzman's Blues                    HOOK   \n",
       "1         A Beautiful Mind – Genie und Wahnsinn                     NaN   \n",
       "0   Die Strafe Gottes (Clip): Die Strafe Gottes                    HOOK   \n",
       "\n",
       "                                 Device Type  Bookmark Latest Bookmark  \\\n",
       "40  Sony Sony Android TV 2018 M2 4K Smart TV  00:46:51        00:46:51   \n",
       "39  Sony Sony Android TV 2018 M2 4K Smart TV  00:40:37        00:40:37   \n",
       "38  Sony Sony Android TV 2018 M2 4K Smart TV  00:50:00        00:50:00   \n",
       "37  Sony Sony Android TV 2018 M2 4K Smart TV  00:50:45        00:50:45   \n",
       "36  Sony Sony Android TV 2018 M2 4K Smart TV  00:00:10        00:00:10   \n",
       "..                                       ...       ...             ...   \n",
       "4     Samsung CE 2020 Nike-L UHD TV Smart TV  00:00:13        00:00:13   \n",
       "3     Samsung CE 2020 Nike-L UHD TV Smart TV  01:41:19        01:41:19   \n",
       "2     Samsung CE 2020 Nike-L UHD TV Smart TV  00:00:06        00:00:06   \n",
       "1     Samsung CE 2020 Nike-L UHD TV Smart TV  02:09:11        02:09:11   \n",
       "0     Samsung CE 2020 Nike-L UHD TV Smart TV  00:00:13        00:00:13   \n",
       "\n",
       "         Country  \n",
       "40  DE (Germany)  \n",
       "39  DE (Germany)  \n",
       "38  DE (Germany)  \n",
       "37  DE (Germany)  \n",
       "36  DE (Germany)  \n",
       "..           ...  \n",
       "4   DE (Germany)  \n",
       "3   DE (Germany)  \n",
       "2   DE (Germany)  \n",
       "1   DE (Germany)  \n",
       "0   DE (Germany)  \n",
       "\n",
       "[167 rows x 10 columns]"
      ]
     },
     "execution_count": 97,
     "metadata": {},
     "output_type": "execute_result"
    }
   ],
   "source": [
    "df.sort_values('Start Time')"
   ]
  },
  {
   "cell_type": "code",
   "execution_count": 98,
   "metadata": {},
   "outputs": [
    {
     "data": {
      "text/plain": [
       "Timedelta('0 days 11:34:44')"
      ]
     },
     "execution_count": 98,
     "metadata": {},
     "output_type": "execute_result"
    }
   ],
   "source": [
    "df.loc[df['Profile Name']=='Code & Dogs','Duration'].sum() #gets rows with profile name = code & dogs + duration, then sums them to find total viewing time"
   ]
  },
  {
   "cell_type": "code",
   "execution_count": 99,
   "metadata": {},
   "outputs": [
    {
     "data": {
      "text/plain": [
       "Timedelta('0 days 03:53:03')"
      ]
     },
     "execution_count": 99,
     "metadata": {},
     "output_type": "execute_result"
    }
   ],
   "source": [
    "df.loc[df['Profile Name']=='Mom & Dad','Duration'].sum()"
   ]
  },
  {
   "cell_type": "code",
   "execution_count": 100,
   "metadata": {},
   "outputs": [
    {
     "data": {
      "text/plain": [
       "Timedelta('0 days 04:53:38')"
      ]
     },
     "execution_count": 100,
     "metadata": {},
     "output_type": "execute_result"
    }
   ],
   "source": [
    "df.loc[df['Profile Name']=='Kids','Duration'].sum()"
   ]
  },
  {
   "cell_type": "code",
   "execution_count": 101,
   "metadata": {},
   "outputs": [
    {
     "data": {
      "text/plain": [
       "Timedelta('0 days 22:51:37')"
      ]
     },
     "execution_count": 101,
     "metadata": {},
     "output_type": "execute_result"
    }
   ],
   "source": [
    "df.loc[df['Profile Name']=='Brother & Wife','Duration'].sum()"
   ]
  },
  {
   "cell_type": "code",
   "execution_count": 102,
   "metadata": {},
   "outputs": [
    {
     "data": {
      "text/plain": [
       "Timedelta('0 days 11:03:42')"
      ]
     },
     "execution_count": 102,
     "metadata": {},
     "output_type": "execute_result"
    }
   ],
   "source": [
    "df.loc[df['Profile Name']=='Friends','Duration'].sum()"
   ]
  },
  {
   "cell_type": "code",
   "execution_count": 103,
   "metadata": {},
   "outputs": [
    {
     "data": {
      "text/plain": [
       "41684.0"
      ]
     },
     "execution_count": 103,
     "metadata": {},
     "output_type": "execute_result"
    }
   ],
   "source": [
    "seconds_series = pd.Series(df.loc[df['Profile Name']=='Code & Dogs','Duration'])\n",
    "seconds_series.dt.total_seconds().sum()"
   ]
  },
  {
   "cell_type": "code",
   "execution_count": 105,
   "metadata": {},
   "outputs": [
    {
     "data": {
      "text/plain": [
       "{'Code & Dogs': 41684.0,\n",
       " 'Mom & Dad': 13983.0,\n",
       " 'Kids': 17618.0,\n",
       " 'Brother & Wife': 82297.0,\n",
       " 'Friends': 39822.0}"
      ]
     },
     "execution_count": 105,
     "metadata": {},
     "output_type": "execute_result"
    }
   ],
   "source": [
    "viewTime = {}\n",
    "seconds_series = pd.Series(df.loc[df['Profile Name']=='Code & Dogs','Duration'])\n",
    "totalSeconds = seconds_series.dt.total_seconds().sum()\n",
    "viewTime.update({\"Code & Dogs\": totalSeconds})\n",
    "seconds_series = pd.Series(df.loc[df['Profile Name']=='Mom & Dad','Duration'])\n",
    "totalSeconds = seconds_series.dt.total_seconds().sum()\n",
    "viewTime.update({\"Mom & Dad\": totalSeconds})\n",
    "seconds_series = pd.Series(df.loc[df['Profile Name']=='Kids','Duration'])\n",
    "totalSeconds = seconds_series.dt.total_seconds().sum()\n",
    "viewTime.update({\"Kids\": totalSeconds})\n",
    "seconds_series = pd.Series(df.loc[df['Profile Name']=='Brother & Wife','Duration'])\n",
    "totalSeconds = seconds_series.dt.total_seconds().sum()\n",
    "viewTime.update({\"Brother & Wife\": totalSeconds})\n",
    "seconds_series = pd.Series(df.loc[df['Profile Name']=='Friends','Duration'])\n",
    "totalSeconds = seconds_series.dt.total_seconds().sum()\n",
    "viewTime.update({\"Friends\": totalSeconds})\n",
    "viewTime"
   ]
  },
  {
   "cell_type": "code",
   "execution_count": 106,
   "metadata": {},
   "outputs": [
    {
     "data": {
      "image/png": "[encoded data removed]",
      "text/plain": [
       "<Figure size 640x480 with 1 Axes>"
      ]
     },
     "metadata": {},
     "output_type": "display_data"
    }
   ],
   "source": [
    "%matplotlib inline\n",
    "import matplotlib\n",
    "import matplotlib.pyplot as plt\n",
    "plt.bar(*zip(*viewTime.items()))\n",
    "plt.show()"
   ]
  }
 ],
 "metadata": {
  "kernelspec": {
   "display_name": "myenv",
   "language": "python",
   "name": "python3"
  },
  "language_info": {
   "codemirror_mode": {
    "name": "ipython",
    "version": 3
   },
   "file_extension": ".py",
   "mimetype": "text/x-python",
   "name": "python",
   "nbconvert_exporter": "python",
   "pygments_lexer": "ipython3",
   "version": "3.10.13"
  }
 },
 "nbformat": 4,
 "nbformat_minor": 2
}
